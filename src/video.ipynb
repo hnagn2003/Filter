{
 "cells": [
  {
   "cell_type": "code",
   "execution_count": 5,
   "metadata": {},
   "outputs": [
    {
     "name": "stdout",
     "output_type": "stream",
     "text": [
      "None\n"
     ]
    },
    {
     "ename": "RuntimeError",
     "evalue": "stack expects a non-empty TensorList",
     "output_type": "error",
     "traceback": [
      "\u001b[0;31m---------------------------------------------------------------------------\u001b[0m",
      "\u001b[0;31mRuntimeError\u001b[0m                              Traceback (most recent call last)",
      "Cell \u001b[0;32mIn[5], line 41\u001b[0m\n\u001b[1;32m     38\u001b[0m cap\u001b[39m.\u001b[39mrelease()\n\u001b[1;32m     40\u001b[0m \u001b[39m# Stack the frames into a single tensor with shape (num_frames, channels, height, width)\u001b[39;00m\n\u001b[0;32m---> 41\u001b[0m video_tensor \u001b[39m=\u001b[39m torch\u001b[39m.\u001b[39;49mstack(frames)\u001b[39m.\u001b[39mpermute(\u001b[39m0\u001b[39m,\u001b[39m3\u001b[39m,\u001b[39m1\u001b[39m,\u001b[39m2\u001b[39m)\n\u001b[1;32m     42\u001b[0m \u001b[39mprint\u001b[39m(video_tensor\u001b[39m.\u001b[39mshape)\n\u001b[1;32m     43\u001b[0m \u001b[39m# with torch.no_grad():\u001b[39;00m\n\u001b[1;32m     44\u001b[0m \u001b[39m#     output_tensor = model(video_tensor)\u001b[39;00m\n\u001b[1;32m     45\u001b[0m \u001b[39m# annotated_video = TransformDataset.annotate_tensor(video_tensor, output_tensor)\u001b[39;00m\n\u001b[1;32m     46\u001b[0m \n\u001b[1;32m     47\u001b[0m \u001b[39m#convert tensor back to video\u001b[39;00m\n\u001b[1;32m     48\u001b[0m \u001b[39m# create the video writer\u001b[39;00m\n",
      "\u001b[0;31mRuntimeError\u001b[0m: stack expects a non-empty TensorList"
     ]
    }
   ],
   "source": [
    "import cv2\n",
    "import torch\n",
    "import albumentations as A\n",
    "from albumentations import Compose\n",
    "from albumentations.pytorch.transforms import ToTensorV2\n",
    "import numpy as np\n",
    "# Open the video file\n",
    "cap = cv2.VideoCapture('/home/nhngan/Desktop/Projects/facial_landmarks-wandb/data/ibug_tiny/video.mp4')\n",
    "\n",
    "# Loop over the frames and convert them to tensors\n",
    "frames = []\n",
    "transform = Compose([\n",
    "    A.Resize(224, 224),\n",
    "    A.Normalize(mean=[0.485, 0.456, 0.406], std=[0.229, 0.224, 0.225]),\n",
    "    ToTensorV2(),\n",
    "])\n",
    "while True:\n",
    "    # Read the next frame from the video\n",
    "    ret, frame = cap.read()\n",
    "    print(frame)\n",
    "    if not ret:\n",
    "        break\n",
    "    # Convert the frame to RGB format and normalize it to [0, 1]\n",
    "    frame = cv2.cvtColor(frame, cv2.COLOR_BGR2RGB)\n",
    "    frame = frame.astype('float32') / 255.0\n",
    "    \n",
    "    # Convert the frame to a PyTorch tensor and add it to the list of frames\n",
    "    tensor = torch.from_numpy(frame)\n",
    "    #print (tensor.shape)\n",
    "    #convert tensor to numpy\n",
    "    array = tensor.numpy()\n",
    "    transformed = transform(image=array)\n",
    "    \n",
    "    #print(tensor.shape) #batch,3,480,480\n",
    "    frames.append(tensor)\n",
    "\n",
    "# Release the video file handle\n",
    "cap.release()\n",
    "\n",
    "# Stack the frames into a single tensor with shape (num_frames, channels, height, width)\n",
    "video_tensor = torch.stack(frames).permute(0,3,1,2)\n",
    "print(video_tensor.shape)\n",
    "# with torch.no_grad():\n",
    "#     output_tensor = model(video_tensor)\n",
    "# annotated_video = TransformDataset.annotate_tensor(video_tensor, output_tensor)\n",
    "\n",
    "#convert tensor back to video\n",
    "# create the video writer\n",
    "fourcc = cv2.VideoWriter_fourcc(*'mp4v')\n",
    "video_writer = cv2.VideoWriter('output.mp4', fourcc, 30, (224, 224))\n",
    "\n",
    "# iterate over the tensor video and convert each frame to a numpy array\n",
    "for frame_tensor in video_tensor:\n",
    "    # convert the frame tensor to a numpy array\n",
    "    frame_numpy = frame_tensor.permute(1, 2, 0).cpu().numpy()\n",
    "    print(frame_numpy.shape)\n",
    "    # convert the numpy array to a BGR format image\n",
    "    # frame_bgr = cv2.cvtColor(frame_numpy, cv2.COLOR_RGB2BGR)\n",
    "\n",
    "    # write the BGR format image to the video\n",
    "    video_writer.write(frame_bgr)\n",
    "\n",
    "# release the video writer\n",
    "video_writer.release()\n"
   ]
  },
  {
   "cell_type": "code",
   "execution_count": 4,
   "metadata": {},
   "outputs": [
    {
     "name": "stdout",
     "output_type": "stream",
     "text": [
      "torch.Size([257, 3, 480, 480])\n"
     ]
    }
   ],
   "source": [
    "print(video_tensor.shape)"
   ]
  },
  {
   "cell_type": "code",
   "execution_count": null,
   "metadata": {},
   "outputs": [],
   "source": [
    "import albumentations as A\n",
    "from albumentations import Compose\n",
    "from albumentations.pytorch.transforms import ToTensorV2\n",
    "import torchvision\n",
    "import numpy as np\n",
    "transform = Compose([\n",
    "    A.Resize(224, 224),\n",
    "    A.Normalize(mean=[0.485, 0.456, 0.406], std=[0.229, 0.224, 0.225]),\n",
    "    ToTensorV2(),\n",
    "])"
   ]
  }
 ],
 "metadata": {
  "kernelspec": {
   "display_name": "lht",
   "language": "python",
   "name": "python3"
  },
  "language_info": {
   "codemirror_mode": {
    "name": "ipython",
    "version": 3
   },
   "file_extension": ".py",
   "mimetype": "text/x-python",
   "name": "python",
   "nbconvert_exporter": "python",
   "pygments_lexer": "ipython3",
   "version": "3.9.16"
  },
  "orig_nbformat": 4
 },
 "nbformat": 4,
 "nbformat_minor": 2
}
